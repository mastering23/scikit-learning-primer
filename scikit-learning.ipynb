{
 "cells": [
  {
   "cell_type": "markdown",
   "id": "f7506210-f7c7-4be6-85ed-f9b8303ac819",
   "metadata": {},
   "source": [
    "# Scikit Learning Primer | pandas 🐼 | numpy 🧮\n"
   ]
  },
  {
   "cell_type": "code",
   "execution_count": 5,
   "id": "2b727778-5252-49a4-9587-7f6635d189b1",
   "metadata": {},
   "outputs": [],
   "source": [
    "import numpy as np\n",
    "import pandas as pd"
   ]
  },
  {
   "cell_type": "code",
   "execution_count": null,
   "id": "503d61a8-f839-4486-93be-952c21c4314e",
   "metadata": {},
   "outputs": [],
   "source": []
  }
 ],
 "metadata": {
  "kernelspec": {
   "display_name": "Python [conda env:base] *",
   "language": "python",
   "name": "conda-base-py"
  },
  "language_info": {
   "codemirror_mode": {
    "name": "ipython",
    "version": 3
   },
   "file_extension": ".py",
   "mimetype": "text/x-python",
   "name": "python",
   "nbconvert_exporter": "python",
   "pygments_lexer": "ipython3",
   "version": "3.12.3"
  }
 },
 "nbformat": 4,
 "nbformat_minor": 5
}
